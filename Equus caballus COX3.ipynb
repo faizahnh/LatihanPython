{
 "cells": [
  {
   "cell_type": "code",
   "execution_count": 2,
   "id": "62f4f235-2cb5-4ae7-9440-010ff850ee8e",
   "metadata": {},
   "outputs": [
    {
     "name": "stdout",
     "output_type": "stream",
     "text": [
      "b'<?xml version=\"1.0\" encoding=\"UTF-8\" ?>\\n<!DOCTYPE eInfoResult PUBLIC \"-//NLM//DTD einfo 20190110//EN\" \"https://eutils.ncbi.nlm.nih.gov/eutils/dtd/20190110/einfo.dtd\">\\n<eInfoResult>\\n<DbList>\\n\\n\\t<DbName>pubmed</DbName>\\n\\t<DbName>protein</DbName>\\n\\t<DbName>nuccore</DbName>\\n\\t<DbName>ipg</DbName>\\n\\t<DbName>nucleotide</DbName>\\n\\t<DbName>structure</DbName>\\n\\t<DbName>genome</DbName>\\n\\t<DbName>annotinfo</DbName>\\n\\t<DbName>assembly</DbName>\\n\\t<DbName>bioproject</DbName>\\n\\t<DbName>biosample</DbName>\\n\\t<DbName>blastdbinfo</DbName>\\n\\t<DbName>books</DbName>\\n\\t<DbName>cdd</DbName>\\n\\t<DbName>clinvar</DbName>\\n\\t<DbName>gap</DbName>\\n\\t<DbName>gapplus</DbName>\\n\\t<DbName>grasp</DbName>\\n\\t<DbName>dbvar</DbName>\\n\\t<DbName>gene</DbName>\\n\\t<DbName>gds</DbName>\\n\\t<DbName>geoprofiles</DbName>\\n\\t<DbName>homologene</DbName>\\n\\t<DbName>medgen</DbName>\\n\\t<DbName>mesh</DbName>\\n\\t<DbName>ncbisearch</DbName>\\n\\t<DbName>nlmcatalog</DbName>\\n\\t<DbName>omim</DbName>\\n\\t<DbName>orgtrack</DbName>\\n\\t<DbName>pmc</DbName>\\n\\t<DbName>popset</DbName>\\n\\t<DbName>proteinclusters</DbName>\\n\\t<DbName>pcassay</DbName>\\n\\t<DbName>protfam</DbName>\\n\\t<DbName>biosystems</DbName>\\n\\t<DbName>pccompound</DbName>\\n\\t<DbName>pcsubstance</DbName>\\n\\t<DbName>seqannot</DbName>\\n\\t<DbName>snp</DbName>\\n\\t<DbName>sra</DbName>\\n\\t<DbName>taxonomy</DbName>\\n\\t<DbName>biocollections</DbName>\\n\\t<DbName>gtr</DbName>\\n</DbList>\\n\\n</eInfoResult>\\n'\n"
     ]
    }
   ],
   "source": [
    "from Bio import Entrez\n",
    "Entrez.email = \"localuser@localhost.localdomain\" #Mandatory! Can be replaced with your personal email.\n",
    "\n",
    "#creating handle\n",
    "handle = Entrez.einfo() #invoking Bio.Entrez.einfo()\n",
    "print(handle.read())\n",
    "handle.close() #always close your handle after you finish"
   ]
  },
  {
   "cell_type": "code",
   "execution_count": 4,
   "id": "fc77b991-1275-4766-a103-b25d334f25e8",
   "metadata": {},
   "outputs": [
    {
     "name": "stdout",
     "output_type": "stream",
     "text": [
      "{'Count': '535', 'RetMax': '20', 'RetStart': '0', 'IdList': ['1783235802', '1783235788', '5835107', '2003706746', '2003706732', '2003706718', '2003706704', '2003706690', '2003706676', '1929137498', '1929137496', '1929137494', '1929137492', '1929137490', '1922075187', '1922075166', '1922074998', '1922074977', '1922074957', '1922071234'], 'TranslationSet': [{'From': 'Equus caballus', 'To': '\"Equus caballus\"[Organism] OR Equus caballus[All Fields]'}], 'TranslationStack': [{'Term': '\"Equus caballus\"[Organism]', 'Field': 'Organism', 'Count': '537134', 'Explode': 'Y'}, {'Term': 'Equus caballus[All Fields]', 'Field': 'All Fields', 'Count': '593394', 'Explode': 'N'}, 'OR', 'GROUP', {'Term': 'COX3[All Fields]', 'Field': 'All Fields', 'Count': '133401', 'Explode': 'N'}, 'AND', 'GROUP'], 'QueryTranslation': '(\"Equus caballus\"[Organism] OR Equus caballus[All Fields]) AND COX3[All Fields]'}\n"
     ]
    }
   ],
   "source": [
    "handle = Entrez.esearch(db=\"nuccore\", term=\"Equus caballus COX3\")\n",
    "record = Entrez.read(handle)\n",
    "print(record)\n",
    "handle.close() #always close your handle after you finish"
   ]
  },
  {
   "cell_type": "code",
   "execution_count": 5,
   "id": "8f4d7ca8-7546-41e0-a6fa-c49886ebcacb",
   "metadata": {},
   "outputs": [
    {
     "name": "stdout",
     "output_type": "stream",
     "text": [
      "LOCUS       MT476523                 553 bp    DNA     linear   MAM 11-NOV-2020\n",
      "DEFINITION  Equus caballus voucher Eca87 cytochrome c oxidase subunit III\n",
      "            (COX3) gene, partial cds; mitochondrial.\n",
      "ACCESSION   MT476523\n",
      "VERSION     MT476523.1\n",
      "KEYWORDS    .\n",
      "SOURCE      mitochondrion Equus caballus (horse)\n",
      "  ORGANISM  Equus caballus\n",
      "            Eukaryota; Metazoa; Chordata; Craniata; Vertebrata; Euteleostomi;\n",
      "            Mammalia; Eutheria; Laurasiatheria; Perissodactyla; Equidae; Equus.\n",
      "REFERENCE   1  (bases 1 to 553)\n",
      "  AUTHORS   Kvist,L. and Niskanen,M.\n",
      "  TITLE     Modern Northern Domestic Horses Carry Mitochondrial DNA Similar to\n",
      "            Przewalski's Horse\n",
      "  JOURNAL   J Mamm Evol (2020) In press\n",
      "REFERENCE   2  (bases 1 to 553)\n",
      "  AUTHORS   Kvist,L.\n",
      "  TITLE     Direct Submission\n",
      "  JOURNAL   Submitted (13-MAY-2020) Department of Ecology and Genetics,\n",
      "            University of Oulu, POB 3000, Oulu 90014, Finland\n",
      "COMMENT     ##Assembly-Data-START##\n",
      "            Sequencing Technology :: Sanger dideoxy sequencing\n",
      "            ##Assembly-Data-END##\n",
      "FEATURES             Location/Qualifiers\n",
      "     source          1..553\n",
      "                     /organism=\"Equus caballus\"\n",
      "                     /organelle=\"mitochondrion\"\n",
      "                     /mol_type=\"genomic DNA\"\n",
      "                     /specimen_voucher=\"Eca87\"\n",
      "                     /db_xref=\"taxon:9796\"\n",
      "                     /note=\"breed: Finnhorse\"\n",
      "     gene            <1..>553\n",
      "                     /gene=\"COX3\"\n",
      "     CDS             <1..>553\n",
      "                     /gene=\"COX3\"\n",
      "                     /codon_start=2\n",
      "                     /transl_table=2\n",
      "                     /product=\"cytochrome c oxidase subunit III\"\n",
      "                     /protein_id=\"QOY46143.1\"\n",
      "                     /translation=\"TMYXXXXXXXRESTFQGHHTSIVQKGLRYGMILFIISEVFFFSG\n",
      "                     FFWAFYHSSLAPTPELGGCWPPTGIHPLNPLEVPLLNTSVLLASGVSITWAHHSLMEG\n",
      "                     NRKNMLQGLFITISLGVYFTLLQASEYYEASFTISDGVYGSTFFVATGFHGLHVIIGS\n",
      "                     TFLIVCFLRQLKFHFTSSHHFGFE\"\n",
      "ORIGIN      \n",
      "        1 taccatatat nnnnnnnnnn nnnnnnnnnn ccgagaaagc acattccaag gccatcacac\n",
      "       61 atcaatcgtt caaaagggac tccgatatgg cataatcctt tttattatct cagaagtctt\n",
      "      121 cttcttctct ggcttcttct gagcctttta ccactcaagc ctagccccca cacccgaact\n",
      "      181 aggcggctgc tgaccaccca caggtatcca ccccttaaac cccctagaag tccccttact\n",
      "      241 caacacctca gtgctcctag catctggagt ctctatcacc tgagcccacc atagcctaat\n",
      "      301 agaaggaaac cgtaaaaata tgctccaagg cctattcatc acaatttcac taggcgtata\n",
      "      361 cttcaccctt ctccaagcct cagaatacta tgaagcctca tttactattt cagatggagt\n",
      "      421 atacggatca acatttttcg tggcaacagg gttccacgga ctacacgtaa ttatcggatc\n",
      "      481 taccttcctc attgtatgtt tcctacgcca actaaaattc cactttacat ccagccacca\n",
      "      541 cttcggattt gaa\n",
      "//\n",
      "\n",
      "\n"
     ]
    }
   ],
   "source": [
    "efetch_handle = Entrez.efetch(db=\"nuccore\", id=\"1929137490\", rettype=\"gb\", retmode=\"text\")\n",
    "gbrecord = efetch_handle.read()\n",
    "print(gbrecord)\n",
    "efetch_handle.close() #always close your handle after you finish"
   ]
  },
  {
   "cell_type": "code",
   "execution_count": 6,
   "id": "40688862-1336-4396-b139-43bd040375e6",
   "metadata": {},
   "outputs": [
    {
     "name": "stdout",
     "output_type": "stream",
     "text": [
      ">MT476523.1 Equus caballus voucher Eca87 cytochrome c oxidase subunit III (COX3) gene, partial cds; mitochondrial\n",
      "TACCATATATNNNNNNNNNNNNNNNNNNNNCCGAGAAAGCACATTCCAAGGCCATCACACATCAATCGTT\n",
      "CAAAAGGGACTCCGATATGGCATAATCCTTTTTATTATCTCAGAAGTCTTCTTCTTCTCTGGCTTCTTCT\n",
      "GAGCCTTTTACCACTCAAGCCTAGCCCCCACACCCGAACTAGGCGGCTGCTGACCACCCACAGGTATCCA\n",
      "CCCCTTAAACCCCCTAGAAGTCCCCTTACTCAACACCTCAGTGCTCCTAGCATCTGGAGTCTCTATCACC\n",
      "TGAGCCCACCATAGCCTAATAGAAGGAAACCGTAAAAATATGCTCCAAGGCCTATTCATCACAATTTCAC\n",
      "TAGGCGTATACTTCACCCTTCTCCAAGCCTCAGAATACTATGAAGCCTCATTTACTATTTCAGATGGAGT\n",
      "ATACGGATCAACATTTTTCGTGGCAACAGGGTTCCACGGACTACACGTAATTATCGGATCTACCTTCCTC\n",
      "ATTGTATGTTTCCTACGCCAACTAAAATTCCACTTTACATCCAGCCACCACTTCGGATTTGAA\n",
      "\n",
      "\n"
     ]
    }
   ],
   "source": [
    "efetch_handle = Entrez.efetch(db=\"nuccore\", id=\"1929137490\", rettype=\"fasta\", retmode=\"text\")\n",
    "gbrecord = efetch_handle.read()\n",
    "print(gbrecord)\n",
    "efetch_handle.close() #always close your handle after you finish"
   ]
  },
  {
   "cell_type": "code",
   "execution_count": 7,
   "id": "1f6a43ee-e7cf-4963-8dba-21fb5632d174",
   "metadata": {},
   "outputs": [
    {
     "name": "stdout",
     "output_type": "stream",
     "text": [
      "FASTA Download\n"
     ]
    }
   ],
   "source": [
    "import os\n",
    "\n",
    "#creating EFetch handle\n",
    "filename = \"Equus caballus COX3.fasta\" #up to you, but FASTA files always use *.fasta or *.fas \n",
    "\n",
    "#creating EFetch handle\n",
    "if not os.path.isfile(filename):\n",
    "    # Downloading file...\n",
    "    efetch_handle = Entrez.efetch(db=\"nuccore\", id=\"1929137490\", rettype=\"fasta\", retmode=\"text\")\n",
    "    output_file_handle = open(filename, \"w\")\n",
    "    output_file_handle.write(efetch_handle.read())\n",
    "    output_file_handle.close()\n",
    "    efetch_handle.close()\n",
    "    print(\"FASTA Download\")"
   ]
  },
  {
   "cell_type": "code",
   "execution_count": 8,
   "id": "df09ae65-fc9b-4ce6-bd3f-fde4e710e140",
   "metadata": {},
   "outputs": [
    {
     "name": "stdout",
     "output_type": "stream",
     "text": [
      "GB Downloaded\n"
     ]
    }
   ],
   "source": [
    "#creating EFetch handle\n",
    "filename = \"Equus caballus mitochondrion complete genome.gbk\" #up to you, but Genbank files always use *.gb or *.gbk \n",
    "\n",
    "#creating EFetch handle\n",
    "if not os.path.isfile(filename):\n",
    "    # Downloading file...\n",
    "    efetch_handle = Entrez.efetch(db=\"nuccore\", id=\"5835107\", rettype=\"gb\", retmode=\"text\")\n",
    "    output_file_handle = open(filename, \"w\")\n",
    "    output_file_handle.write(efetch_handle.read())\n",
    "    output_file_handle.close()\n",
    "    efetch_handle.close()\n",
    "    print(\"GB Downloaded\")"
   ]
  },
  {
   "cell_type": "code",
   "execution_count": 9,
   "id": "e3d33cd3-eb86-4268-8eb3-00039e053b78",
   "metadata": {},
   "outputs": [
    {
     "name": "stdout",
     "output_type": "stream",
     "text": [
      ">COX3|Equus caballus mitochondrion, complete genome\n",
      "ATGACCCACCAAACCCACGCTTACCACATAGTAAACCCCAGCCCATGACCACTTACAGGAGCCCTATCAGCCCTCCTGATAACATCAGGACTAGCCATGTGATTTCACTTTAACTCAACCTTACTTCTAGCTATAGGGCTATTAACTAACATCCTTACCATATATCAATGATGACGAGACATCATCCGAGAAAGCACATTCCAAGGCCATCACACATCAATCGTTCAAAAGGGACTCCGATATGGCATAATCCTTTTTATTATCTCAGAAGTCTTCTTCTTCTCTGGCTTCTTCTGAGCCTTTTACCACTCAAGCCTAGCCCCCACACCCGAACTAGGCGGCTGCTGACCACCCACAGGTATCCACCCCTTAAACCCCCTAGAAGTCCCCTTACTCAACACCTCAGTGCTCCTAGCATCTGGAGTCTCTATCACCTGAGCCCACCATAGCCTAATAGAAGGAAACCGTAAAAATATGCTCCAAGGCCTATTCATCACAATTTCACTAGGCGTATACTTCACCCTTCTCCAAGCCTCAGAATACTATGAAGCCTCATTTACTATTTCAGATGGAGTATACGGATCAACATTTTTCGTAGCAACAGGGTTCCACGGACTACACGTAATTATCGGATCTACCTTCCTCATTGTATGTTTCCTACGCCAACTAAAATTCCACTTTACATCCAGCCACCACTTCGGATTCGAAGCAGCCGCTTGATACTGACACTTCGTCGACGTAGTCTGACTATTCTTGTACGTCTCTATTTATTGATGAGGATCCT\n"
     ]
    }
   ],
   "source": [
    "from Bio import SeqIO\n",
    "\n",
    "GoI = \"COX3\" #change \"COX3\" here with your GoI\n",
    "\n",
    "for genome in SeqIO.parse(\"Equus caballus mitochondrion complete genome.gbk\",\"genbank\"):\n",
    "    for gene in genome.features:\n",
    "        if gene.type != \"CDS\":\n",
    "            continue\n",
    "        if \"gene\" not in gene.qualifiers:\n",
    "            continue\n",
    "        if GoI not in gene.qualifiers[\"gene\"][0]: \n",
    "            continue\n",
    "        gene_seq = gene.extract(genome.seq)\n",
    "\n",
    "GoI_fasta = \">%s|%s\\n%s\" % (GoI, genome.description, gene_seq)\n",
    "print(GoI_fasta)"
   ]
  },
  {
   "cell_type": "code",
   "execution_count": 11,
   "id": "7fe484e5-35e1-4a5b-b797-87120bec0f32",
   "metadata": {},
   "outputs": [],
   "source": [
    "from Bio import SeqIO\n",
    "\n",
    "GoI = \"COX3\" #change \"COX3\" here with your GoI\n",
    "\n",
    "for genome in SeqIO.parse(\"Equus caballus mitochondrion complete genome.gbk\",\"genbank\"):\n",
    "    for gene in genome.features:\n",
    "        if gene.type != \"CDS\":\n",
    "            continue\n",
    "        if \"gene\" not in gene.qualifiers:\n",
    "            continue\n",
    "        if GoI not in gene.qualifiers[\"gene\"][0]: \n",
    "            continue\n",
    "        gene_seq = gene.extract(genome.seq)\n",
    "\n",
    "GoI_fasta = \">%s|%s\\n%s\" % (GoI, genome.description, gene_seq)\n",
    "with open(\"GoI_fasta.fasta\",\"w\") as f:\n",
    "    f.write(GoI_fasta)"
   ]
  },
  {
   "cell_type": "code",
   "execution_count": null,
   "id": "e4b24438-cf67-4669-b633-418c5a975002",
   "metadata": {},
   "outputs": [],
   "source": []
  }
 ],
 "metadata": {
  "kernelspec": {
   "display_name": "Python 3 (ipykernel)",
   "language": "python",
   "name": "python3"
  },
  "language_info": {
   "codemirror_mode": {
    "name": "ipython",
    "version": 3
   },
   "file_extension": ".py",
   "mimetype": "text/x-python",
   "name": "python",
   "nbconvert_exporter": "python",
   "pygments_lexer": "ipython3",
   "version": "3.9.7"
  }
 },
 "nbformat": 4,
 "nbformat_minor": 5
}
